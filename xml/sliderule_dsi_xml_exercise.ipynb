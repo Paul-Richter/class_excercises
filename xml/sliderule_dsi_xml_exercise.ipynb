{
 "cells": [
  {
   "cell_type": "markdown",
   "metadata": {},
   "source": [
    "# XML example and exercise\n",
    "****\n",
    "+ study examples of accessing nodes in XML tree structure  \n",
    "+ work on exercise to be completed and submitted\n",
    "****\n",
    "+ reference: https://docs.python.org/2.7/library/xml.etree.elementtree.html\n",
    "+ data source: http://www.dbis.informatik.uni-goettingen.de/Mondial\n",
    "****"
   ]
  },
  {
   "cell_type": "code",
   "execution_count": 10,
   "metadata": {
    "collapsed": true
   },
   "outputs": [],
   "source": [
    "from xml.etree import ElementTree as ET"
   ]
  },
  {
   "cell_type": "markdown",
   "metadata": {},
   "source": [
    "## XML example\n",
    "\n",
    "+ for details about tree traversal and iterators, see https://docs.python.org/2.7/library/xml.etree.elementtree.html"
   ]
  },
  {
   "cell_type": "code",
   "execution_count": 11,
   "metadata": {
    "collapsed": true
   },
   "outputs": [],
   "source": [
    "document_tree = ET.parse( './data/mondial_database_less.xml' )"
   ]
  },
  {
   "cell_type": "code",
   "execution_count": 12,
   "metadata": {
    "collapsed": false
   },
   "outputs": [
    {
     "name": "stdout",
     "output_type": "stream",
     "text": [
      "Albania\n",
      "Greece\n",
      "Macedonia\n",
      "Serbia\n",
      "Montenegro\n",
      "Kosovo\n",
      "Andorra\n"
     ]
    }
   ],
   "source": [
    "# print names of all countries\n",
    "for child in document_tree.getroot():\n",
    "    print child.find('name').text"
   ]
  },
  {
   "cell_type": "code",
   "execution_count": 13,
   "metadata": {
    "collapsed": false,
    "scrolled": true
   },
   "outputs": [
    {
     "name": "stdout",
     "output_type": "stream",
     "text": [
      "* Albania: Tirana, Shkodër, Durrës, Vlorë, Elbasan, Korçë\n",
      "* Greece: Komotini, Kavala, Athina, Peiraias, Peristeri, Acharnes, Patra, Kozani, Kerkyra, Ioannina, Thessaloniki, Iraklio, Chania, Ermoupoli, Rhodes, Tripoli, Lamia, Chalkida, Larissa, Volos, Mytilini, Karyes\n",
      "* Macedonia: Skopje, Kumanovo\n",
      "* Serbia: Beograd, Novi Sad, Niš\n",
      "* Montenegro: Podgorica\n",
      "* Kosovo: Prishtine\n",
      "* Andorra: Andorra la Vella\n"
     ]
    }
   ],
   "source": [
    "# print names of all countries and their cities\n",
    "for element in document_tree.iterfind('country'):\n",
    "    print '* ' + element.find('name').text + ':',\n",
    "    capitals_string = ''\n",
    "    for subelement in element.getiterator('city'):\n",
    "        capitals_string += subelement.find('name').text + ', '\n",
    "    print capitals_string[:-2]"
   ]
  },
  {
   "cell_type": "markdown",
   "metadata": {},
   "source": [
    "****\n",
    "## XML exercise\n",
    "\n",
    "Using data in 'data/mondial_database.xml', the examples above, and refering to https://docs.python.org/2.7/library/xml.etree.elementtree.html, find\n",
    "\n",
    "1. 10 countries with the lowest infant mortality rates\n",
    "2. 10 cities with the largest population\n",
    "3. 10 ethnic groups with the largest overall populations (sum of best/latest estimates over all countries)\n",
    "4. name and country of a) longest river, b) largest lake and c) airport at highest elevation"
   ]
  },
  {
   "cell_type": "code",
   "execution_count": 29,
   "metadata": {
    "collapsed": false
   },
   "outputs": [],
   "source": [
    "tree = ET.parse( './data/mondial_database.xml' )\n",
    "import operator\n",
    "import pandas as pd"
   ]
  },
  {
   "cell_type": "code",
   "execution_count": 15,
   "metadata": {
    "collapsed": true
   },
   "outputs": [],
   "source": [
    "def num(s):\n",
    "        return float(s)\n",
    "\n",
    "def getkey(item):\n",
    "    return item[0]"
   ]
  },
  {
   "cell_type": "code",
   "execution_count": 16,
   "metadata": {
    "collapsed": false,
    "scrolled": true
   },
   "outputs": [
    {
     "data": {
      "text/plain": [
       "[(1.81, 'Monaco'),\n",
       " (2.13, 'Japan'),\n",
       " (2.48, 'Norway'),\n",
       " (2.48, 'Bermuda'),\n",
       " (2.53, 'Singapore'),\n",
       " (2.6, 'Sweden'),\n",
       " (2.63, 'Czech Republic'),\n",
       " (2.73, 'Hong Kong'),\n",
       " (3.13, 'Macao'),\n",
       " (3.15, 'Iceland')]"
      ]
     },
     "execution_count": 16,
     "metadata": {},
     "output_type": "execute_result"
    }
   ],
   "source": [
    "imlist = []\n",
    "for element in tree.iterfind('country'):\n",
    "    im = element.find('infant_mortality')\n",
    "    if im is None:\n",
    "        continue\n",
    "    im = num(im.text)\n",
    "    cont = element.find('name')\n",
    "    imlist.append((im,cont.text))\n",
    "\n",
    "sorted(imlist, key=getkey)[:10]\n",
    "\n",
    "\n",
    "\n"
   ]
  },
  {
   "cell_type": "code",
   "execution_count": 75,
   "metadata": {
    "collapsed": true
   },
   "outputs": [],
   "source": [
    "# def getsorted(item):\n",
    "#     return item[1]"
   ]
  },
  {
   "cell_type": "code",
   "execution_count": 42,
   "metadata": {
    "collapsed": false,
    "scrolled": true
   },
   "outputs": [
    {
     "data": {
      "text/html": [
       "<div>\n",
       "<table border=\"1\" class=\"dataframe\">\n",
       "  <thead>\n",
       "    <tr style=\"text-align: right;\">\n",
       "      <th></th>\n",
       "      <th>city</th>\n",
       "      <th>country</th>\n",
       "      <th>population</th>\n",
       "      <th>year</th>\n",
       "    </tr>\n",
       "  </thead>\n",
       "  <tbody>\n",
       "    <tr>\n",
       "      <th>1067</th>\n",
       "      <td>Shenzhen</td>\n",
       "      <td>CN</td>\n",
       "      <td>10358381.0</td>\n",
       "      <td>2010.0</td>\n",
       "    </tr>\n",
       "    <tr>\n",
       "      <th>1064</th>\n",
       "      <td>Guangzhou</td>\n",
       "      <td>CN</td>\n",
       "      <td>11071424.0</td>\n",
       "      <td>2010.0</td>\n",
       "    </tr>\n",
       "    <tr>\n",
       "      <th>1342</th>\n",
       "      <td>Tianjin</td>\n",
       "      <td>CN</td>\n",
       "      <td>11090314.0</td>\n",
       "      <td>2010.0</td>\n",
       "    </tr>\n",
       "    <tr>\n",
       "      <th>2810</th>\n",
       "      <td>São Paulo</td>\n",
       "      <td>BR</td>\n",
       "      <td>11152344.0</td>\n",
       "      <td>2010.0</td>\n",
       "    </tr>\n",
       "    <tr>\n",
       "      <th>1340</th>\n",
       "      <td>Beijing</td>\n",
       "      <td>CN</td>\n",
       "      <td>11716620.0</td>\n",
       "      <td>2010.0</td>\n",
       "    </tr>\n",
       "    <tr>\n",
       "      <th>479</th>\n",
       "      <td>Moskva</td>\n",
       "      <td>R</td>\n",
       "      <td>11979529.0</td>\n",
       "      <td>2013.0</td>\n",
       "    </tr>\n",
       "    <tr>\n",
       "      <th>1527</th>\n",
       "      <td>Mumbai</td>\n",
       "      <td>IND</td>\n",
       "      <td>12442373.0</td>\n",
       "      <td>2011.0</td>\n",
       "    </tr>\n",
       "    <tr>\n",
       "      <th>1582</th>\n",
       "      <td>Delhi</td>\n",
       "      <td>IND</td>\n",
       "      <td>12877470.0</td>\n",
       "      <td>2001.0</td>\n",
       "    </tr>\n",
       "    <tr>\n",
       "      <th>771</th>\n",
       "      <td>Istanbul</td>\n",
       "      <td>TR</td>\n",
       "      <td>13710512.0</td>\n",
       "      <td>2012.0</td>\n",
       "    </tr>\n",
       "    <tr>\n",
       "      <th>1341</th>\n",
       "      <td>Shanghai</td>\n",
       "      <td>CN</td>\n",
       "      <td>22315474.0</td>\n",
       "      <td>2010.0</td>\n",
       "    </tr>\n",
       "  </tbody>\n",
       "</table>\n",
       "</div>"
      ],
      "text/plain": [
       "           city country  population    year\n",
       "1067   Shenzhen      CN  10358381.0  2010.0\n",
       "1064  Guangzhou      CN  11071424.0  2010.0\n",
       "1342    Tianjin      CN  11090314.0  2010.0\n",
       "2810  São Paulo      BR  11152344.0  2010.0\n",
       "1340    Beijing      CN  11716620.0  2010.0\n",
       "479      Moskva       R  11979529.0  2013.0\n",
       "1527     Mumbai     IND  12442373.0  2011.0\n",
       "1582      Delhi     IND  12877470.0  2001.0\n",
       "771    Istanbul      TR  13710512.0  2012.0\n",
       "1341   Shanghai      CN  22315474.0  2010.0"
      ]
     },
     "execution_count": 42,
     "metadata": {},
     "output_type": "execute_result"
    }
   ],
   "source": [
    "# poplist = []\n",
    "# for element in tree.iterfind('country'):\n",
    "#     for subelement in element.getiterator('city'):\n",
    "#         if subelement is None:\n",
    "#             for subelement in element.getiterator('province'):\n",
    "#                 cname = subelement.find('name').text\n",
    "#                 pop = subelement.find('population').text\n",
    "#                 if pop is None:\n",
    "#                     continue      \n",
    "#                 poplist.append((cname,int(pop.text)))\n",
    "#         else:\n",
    "#             cname = subelement.find('name').text\n",
    "#             pop = subelement.find('population')\n",
    "#             if pop is None:\n",
    "#                 continue      \n",
    "#             poplist.append((cname,int(pop.text)))    \n",
    "# sorted(poplist, key=getsorted, reverse=True)[:10]\n",
    "\n",
    "\n",
    "pop_df = pd.DataFrame()\n",
    "\n",
    "\n",
    "def find_max_pop_year(c):\n",
    "    max_pop = None\n",
    "    max_year = None\n",
    "    for p in c.findall('population'):\n",
    "        year = int(p.attrib['year'])\n",
    "        pop = int(p.text)\n",
    "        if pop > max_pop:\n",
    "            max_pop = pop\n",
    "            max_year = year\n",
    "    return max_pop, max_year\n",
    "\n",
    "for c in tree.iterfind('.//city'):\n",
    "    con_name = c.attrib['country']\n",
    "    city_name = c.find('name').text\n",
    "    pop, year = find_max_pop_year(c)\n",
    "    pop_df = pop_df.append({\"city\": city_name,\n",
    "                    \"country\": con_name,\n",
    "                    \"year\": year,\n",
    "                    \"population\": pop}, ignore_index=True)\n",
    "\n",
    "pop_df = pop_df.dropna()\n",
    "pop_df.sort_values(by='population').tail(10)\n"
   ]
  },
  {
   "cell_type": "code",
   "execution_count": 64,
   "metadata": {
    "collapsed": false,
    "scrolled": true
   },
   "outputs": [
    {
     "data": {
      "text/html": [
       "<div>\n",
       "<table border=\"1\" class=\"dataframe\">\n",
       "  <thead>\n",
       "    <tr style=\"text-align: right;\">\n",
       "      <th></th>\n",
       "      <th>ethnicity</th>\n",
       "      <th>ethnicity_population</th>\n",
       "    </tr>\n",
       "  </thead>\n",
       "  <tbody>\n",
       "    <tr>\n",
       "      <th>270</th>\n",
       "      <td>Malay</td>\n",
       "      <td>1.219936</td>\n",
       "    </tr>\n",
       "    <tr>\n",
       "      <th>271</th>\n",
       "      <td>Japanese</td>\n",
       "      <td>1.272890</td>\n",
       "    </tr>\n",
       "    <tr>\n",
       "      <th>272</th>\n",
       "      <td>Russian</td>\n",
       "      <td>1.368666</td>\n",
       "    </tr>\n",
       "    <tr>\n",
       "      <th>273</th>\n",
       "      <td>Bengali</td>\n",
       "      <td>1.467769</td>\n",
       "    </tr>\n",
       "    <tr>\n",
       "      <th>274</th>\n",
       "      <td>Mestizo</td>\n",
       "      <td>1.578553</td>\n",
       "    </tr>\n",
       "    <tr>\n",
       "      <th>275</th>\n",
       "      <td>Dravidian</td>\n",
       "      <td>3.027137</td>\n",
       "    </tr>\n",
       "    <tr>\n",
       "      <th>276</th>\n",
       "      <td>African</td>\n",
       "      <td>3.183597</td>\n",
       "    </tr>\n",
       "    <tr>\n",
       "      <th>277</th>\n",
       "      <td>European</td>\n",
       "      <td>4.949395</td>\n",
       "    </tr>\n",
       "    <tr>\n",
       "      <th>278</th>\n",
       "      <td>Indo-Aryan</td>\n",
       "      <td>8.718156</td>\n",
       "    </tr>\n",
       "    <tr>\n",
       "      <th>279</th>\n",
       "      <td>Han Chinese</td>\n",
       "      <td>12.450588</td>\n",
       "    </tr>\n",
       "  </tbody>\n",
       "</table>\n",
       "</div>"
      ],
      "text/plain": [
       "       ethnicity  ethnicity_population\n",
       "270        Malay              1.219936\n",
       "271     Japanese              1.272890\n",
       "272      Russian              1.368666\n",
       "273      Bengali              1.467769\n",
       "274      Mestizo              1.578553\n",
       "275    Dravidian              3.027137\n",
       "276      African              3.183597\n",
       "277     European              4.949395\n",
       "278   Indo-Aryan              8.718156\n",
       "279  Han Chinese             12.450588"
      ]
     },
     "execution_count": 64,
     "metadata": {},
     "output_type": "execute_result"
    }
   ],
   "source": [
    "df = pd.DataFrame()\n",
    "for country in tree.iterfind('country'):\n",
    "    country_name = country.find('name').text\n",
    "    pop, year = find_max_pop_year(country)\n",
    "    for ethnic_group in country.iterfind('ethnicgroup'):\n",
    "        percentage = float(ethnic_group.attrib['percentage']) / 100\n",
    "        group_name = ethnic_group.text\n",
    "        df = df.append({\"country\": country_name,\n",
    "                        \"population\": pop,\n",
    "                        \"year\": year,\n",
    "                        \"percentage\": percentage,\n",
    "                        \"ethnicity\": group_name}, ignore_index=True)\n",
    "df = df.dropna()\n",
    "df['ethnicity_population'] = (df.population * df.percentage)*10**-8\n",
    "df = df.groupby('ethnicity').ethnicity_population.sum().sort_values().reset_index().tail(10)\n",
    "\n",
    "df"
   ]
  },
  {
   "cell_type": "code",
   "execution_count": 70,
   "metadata": {
    "collapsed": false
   },
   "outputs": [],
   "source": [
    "def get_resource_data_points(resource_type, target_feat):\n",
    "  \"\"\"\n",
    "  finds all elements specified by $resource_type. For each of\n",
    "  these elements, return its country, its name, and the value\n",
    "  of a target feature as specified by the user (via $target_feat).\n",
    "  \"\"\"\n",
    "  for resource in tree.iterfind(\".//\" + resource_type):\n",
    "    country = resource.attrib['country']\n",
    "    name = resource.find('name').text\n",
    "    feat_elm = resource.find(target_feat)\n",
    "    feat = float(feat_elm.text) if feat_elm != None and feat_elm.text != None else None\n",
    "    yield {\"country\": country, \n",
    "           \"name\": name, \n",
    "           target_feat: feat}\n",
    "\n",
    "river_df = pd.DataFrame(pt for pt in get_resource_data_points(\"river\", \"length\"))\n",
    "lake_df = pd.DataFrame(pt for pt in get_resource_data_points(\"lake\", \"area\"))\n",
    "airport_df = pd.DataFrame(pt for pt in get_resource_data_points(\"airport\", \"elevation\"))\n"
   ]
  },
  {
   "cell_type": "code",
   "execution_count": 67,
   "metadata": {
    "collapsed": false
   },
   "outputs": [
    {
     "name": "stdout",
     "output_type": "stream",
     "text": [
      "longest river\n"
     ]
    },
    {
     "data": {
      "text/html": [
       "<div>\n",
       "<table border=\"1\" class=\"dataframe\">\n",
       "  <thead>\n",
       "    <tr style=\"text-align: right;\">\n",
       "      <th></th>\n",
       "      <th>country</th>\n",
       "      <th>length</th>\n",
       "      <th>name</th>\n",
       "    </tr>\n",
       "  </thead>\n",
       "  <tbody>\n",
       "    <tr>\n",
       "      <th>174</th>\n",
       "      <td>CO BR PE</td>\n",
       "      <td>6448.0</td>\n",
       "      <td>Amazonas</td>\n",
       "    </tr>\n",
       "  </tbody>\n",
       "</table>\n",
       "</div>"
      ],
      "text/plain": [
       "      country  length      name\n",
       "174  CO BR PE  6448.0  Amazonas"
      ]
     },
     "execution_count": 67,
     "metadata": {},
     "output_type": "execute_result"
    }
   ],
   "source": [
    "print \"longest river\"\n",
    "river_df[river_df.length == river_df.length.max()]"
   ]
  },
  {
   "cell_type": "code",
   "execution_count": 68,
   "metadata": {
    "collapsed": false
   },
   "outputs": [
    {
     "name": "stdout",
     "output_type": "stream",
     "text": [
      "highest airport\n"
     ]
    },
    {
     "data": {
      "text/html": [
       "<div>\n",
       "<table border=\"1\" class=\"dataframe\">\n",
       "  <thead>\n",
       "    <tr style=\"text-align: right;\">\n",
       "      <th></th>\n",
       "      <th>country</th>\n",
       "      <th>elevation</th>\n",
       "      <th>name</th>\n",
       "    </tr>\n",
       "  </thead>\n",
       "  <tbody>\n",
       "    <tr>\n",
       "      <th>80</th>\n",
       "      <td>BOL</td>\n",
       "      <td>4063.0</td>\n",
       "      <td>El Alto Intl</td>\n",
       "    </tr>\n",
       "  </tbody>\n",
       "</table>\n",
       "</div>"
      ],
      "text/plain": [
       "   country  elevation          name\n",
       "80     BOL     4063.0  El Alto Intl"
      ]
     },
     "execution_count": 68,
     "metadata": {},
     "output_type": "execute_result"
    }
   ],
   "source": [
    "print \"highest airport\"\n",
    "airport_df[airport_df.elevation == airport_df.elevation.max()]"
   ]
  },
  {
   "cell_type": "code",
   "execution_count": 69,
   "metadata": {
    "collapsed": false
   },
   "outputs": [
    {
     "name": "stdout",
     "output_type": "stream",
     "text": [
      "Largest Lake\n"
     ]
    },
    {
     "data": {
      "text/html": [
       "<div>\n",
       "<table border=\"1\" class=\"dataframe\">\n",
       "  <thead>\n",
       "    <tr style=\"text-align: right;\">\n",
       "      <th></th>\n",
       "      <th>area</th>\n",
       "      <th>country</th>\n",
       "      <th>name</th>\n",
       "    </tr>\n",
       "  </thead>\n",
       "  <tbody>\n",
       "    <tr>\n",
       "      <th>54</th>\n",
       "      <td>386400.0</td>\n",
       "      <td>R AZ KAZ IR TM</td>\n",
       "      <td>Caspian Sea</td>\n",
       "    </tr>\n",
       "  </tbody>\n",
       "</table>\n",
       "</div>"
      ],
      "text/plain": [
       "        area         country         name\n",
       "54  386400.0  R AZ KAZ IR TM  Caspian Sea"
      ]
     },
     "execution_count": 69,
     "metadata": {},
     "output_type": "execute_result"
    }
   ],
   "source": [
    "print \"Largest Lake\"\n",
    "lake_df[lake_df.area == lake_df.area.max()]"
   ]
  },
  {
   "cell_type": "code",
   "execution_count": null,
   "metadata": {
    "collapsed": true
   },
   "outputs": [],
   "source": []
  }
 ],
 "metadata": {
  "anaconda-cloud": {},
  "kernelspec": {
   "display_name": "Python [default]",
   "language": "python",
   "name": "python2"
  },
  "language_info": {
   "codemirror_mode": {
    "name": "ipython",
    "version": 2
   },
   "file_extension": ".py",
   "mimetype": "text/x-python",
   "name": "python",
   "nbconvert_exporter": "python",
   "pygments_lexer": "ipython2",
   "version": "2.7.12"
  }
 },
 "nbformat": 4,
 "nbformat_minor": 0
}
